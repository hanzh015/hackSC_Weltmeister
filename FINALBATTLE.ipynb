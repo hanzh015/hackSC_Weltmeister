{
 "cells": [
  {
   "cell_type": "code",
   "execution_count": 28,
   "metadata": {},
   "outputs": [],
   "source": [
    "import numpy as np\n",
    "import os\n",
    "import pandas as pd\n",
    "import sklearn\n",
    "import random\n",
    "from sklearn.model_selection import train_test_split\n",
    "from sklearn.linear_model import LogisticRegression\n",
    "from sklearn.metrics import accuracy_score\n",
    "from sklearn.metrics import precision_recall_fscore_support"
   ]
  },
  {
   "cell_type": "code",
   "execution_count": 3,
   "metadata": {},
   "outputs": [
    {
     "name": "stderr",
     "output_type": "stream",
     "text": [
      "C:\\ProgramData\\Anaconda3\\lib\\site-packages\\IPython\\core\\interactiveshell.py:3049: DtypeWarning: Columns (18) have mixed types. Specify dtype option on import or set low_memory=False.\n",
      "  interactivity=interactivity, compiler=compiler, result=result)\n",
      "C:\\ProgramData\\Anaconda3\\lib\\site-packages\\IPython\\core\\interactiveshell.py:3049: DtypeWarning: Columns (1) have mixed types. Specify dtype option on import or set low_memory=False.\n",
      "  interactivity=interactivity, compiler=compiler, result=result)\n"
     ]
    }
   ],
   "source": [
    "#1.load data from csv\n",
    "data_df = pd.read_csv(\"our_ultra_data.csv\")\n",
    "cum_df = pd.read_csv(\"cleaning_customer.csv\",nrows=10000).to_numpy()\n",
    "pro_df = pd.read_csv(\"product_training_clean_onehot_v1.csv\",nrows=50000).to_numpy()"
   ]
  },
  {
   "cell_type": "code",
   "execution_count": 4,
   "metadata": {},
   "outputs": [],
   "source": [
    "size = data_df.shape[0]\n",
    "sizep = pro_df.shape[0]\n",
    "sizec = cum_df.shape[0]\n",
    "\n",
    "x_1 = data_df.to_numpy()\n",
    "y_1 = np.ones(size)"
   ]
  },
  {
   "cell_type": "code",
   "execution_count": 7,
   "metadata": {},
   "outputs": [],
   "source": [
    "number = 0\n",
    "x_0 = []\n",
    "y_0 = np.zeros(size)\n",
    "while number < size:\n",
    "    \n",
    "    indexp = random.randrange(sizep)\n",
    "    indexc = random.randrange(sizec)\n",
    "    \n",
    "    x_0.append(np.concatenate((pro_df[indexp], cum_df[indexc]),axis=0))\n",
    "    number = number + 1"
   ]
  },
  {
   "cell_type": "code",
   "execution_count": 10,
   "metadata": {},
   "outputs": [],
   "source": [
    "x_ = np.concatenate((x_0, x_1),axis=0)\n",
    "y_ = np.concatenate((y_0, y_1),axis=0)\n",
    "x_ , y_  = sklearn.utils.shuffle(x_,y_)\n",
    "x_train, x_test, y_train, y_test = train_test_split(x_, y_, test_size=0.2, random_state=66)"
   ]
  },
  {
   "cell_type": "code",
   "execution_count": null,
   "metadata": {},
   "outputs": [],
   "source": [
    "# k-means\n",
    "'''\n",
    "kmodel = sklearn.KMean(n_clusters=2, random_state=0)\n",
    "groups = kmodel.fit(x_)\n",
    "x_with_group = np.concate(x_,groups,axis=1)\n",
    "'''"
   ]
  },
  {
   "cell_type": "code",
   "execution_count": null,
   "metadata": {},
   "outputs": [],
   "source": [
    "# lr grid search\n",
    "params = [{'solver':['liblinear','newton-cg','sag','lbfgs','saga'],\n",
    "               'penalty':['l2'],'C':np.log(np.array(range(2,10))),'fit_intercept':[True,False]},\n",
    "             {'solver':['liblinear','saga'],\n",
    "               'penalty':['l1'],'C':np.log(np.array(range(2,10))),'fit_intercept':[True,False]}]\n",
    "clf = sklearn.model_selection.GridSearchCV(sklearn.linear_model.LogisticRegression(),params,cv=5)\n",
    "clf.fit(train_x,train_y)"
   ]
  },
  {
   "cell_type": "code",
   "execution_count": 25,
   "metadata": {},
   "outputs": [],
   "source": [
    "#best_estimator = clf.best_estimator_\n",
    "#best_params = clf.best_params_\n",
    "modest_estimator = LogisticRegression(solver='liblinear').fit(x_train,y_train)"
   ]
  },
  {
   "cell_type": "code",
   "execution_count": 19,
   "metadata": {},
   "outputs": [],
   "source": [
    "x_train=np.delete(x_train,[0,12,13,16,17],1)"
   ]
  },
  {
   "cell_type": "code",
   "execution_count": 20,
   "metadata": {},
   "outputs": [],
   "source": [
    "x_test=np.delete(x_test,[0,12,13,16,17],1)"
   ]
  },
  {
   "cell_type": "code",
   "execution_count": 24,
   "metadata": {},
   "outputs": [],
   "source": [
    "for row in x_test:\n",
    "    for i in range(len(row)):\n",
    "        if isinstance(row[i],str):\n",
    "            row[i]=0"
   ]
  },
  {
   "cell_type": "code",
   "execution_count": 29,
   "metadata": {},
   "outputs": [],
   "source": [
    "#predict for results\n",
    "def accuracy_precision_recall_fscore(y_true, y_pred):\n",
    "    accuracy = accuracy_score(y_true, y_pred)\n",
    "    temp = precision_recall_fscore_support(y_true, y_pred, average='binary')\n",
    "    precision = temp[0]\n",
    "    recall = temp[1]\n",
    "    fscore = temp[2]\n",
    "    return accuracy, precision, recall, fscore"
   ]
  },
  {
   "cell_type": "code",
   "execution_count": 30,
   "metadata": {},
   "outputs": [],
   "source": [
    "#accuracy, precision, recall, fscore = accuracy_precision_recall_fscore(y_test,best_estimator.predict(x_test))\n",
    "accuracy, precision, recall, fscore = accuracy_precision_recall_fscore(y_test,modest_estimator.predict(x_test))"
   ]
  },
  {
   "cell_type": "code",
   "execution_count": 36,
   "metadata": {},
   "outputs": [
    {
     "data": {
      "text/plain": [
       "0.4910744358369821"
      ]
     },
     "execution_count": 36,
     "metadata": {},
     "output_type": "execute_result"
    }
   ],
   "source": [
    "precision"
   ]
  }
 ],
 "metadata": {
  "kernelspec": {
   "display_name": "Python 3",
   "language": "python",
   "name": "python3"
  },
  "language_info": {
   "codemirror_mode": {
    "name": "ipython",
    "version": 3
   },
   "file_extension": ".py",
   "mimetype": "text/x-python",
   "name": "python",
   "nbconvert_exporter": "python",
   "pygments_lexer": "ipython3",
   "version": "3.7.3"
  }
 },
 "nbformat": 4,
 "nbformat_minor": 2
}
